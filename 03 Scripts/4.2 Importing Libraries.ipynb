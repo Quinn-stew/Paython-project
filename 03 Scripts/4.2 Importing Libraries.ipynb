{
 "cells": [
  {
   "cell_type": "markdown",
   "id": "6ca2134a",
   "metadata": {},
   "source": [
    "# 01. Importing Libraries"
   ]
  },
  {
   "cell_type": "code",
   "execution_count": 1,
   "id": "a4dc7543",
   "metadata": {},
   "outputs": [],
   "source": [
    "# Import Libraries\n",
    "import pandas as pd\n",
    "import numpy as np\n",
    "import os"
   ]
  },
  {
   "cell_type": "markdown",
   "id": "a0576abc",
   "metadata": {},
   "source": [
    "# Working with Python data types"
   ]
  },
  {
   "cell_type": "code",
   "execution_count": 7,
   "id": "22307955",
   "metadata": {},
   "outputs": [
    {
     "name": "stdout",
     "output_type": "stream",
     "text": [
      "100 100 100\n"
     ]
    }
   ],
   "source": [
    "x=10*10\n",
    "y=97+3\n",
    "z=10+97-7\n",
    "print(x,y,z)"
   ]
  },
  {
   "cell_type": "code",
   "execution_count": 9,
   "id": "0640e718",
   "metadata": {},
   "outputs": [
    {
     "name": "stdout",
     "output_type": "stream",
     "text": [
      "1.5672727272727272\n"
     ]
    }
   ],
   "source": [
    "q=4.31\n",
    "s=2.75\n",
    "print(q/s)"
   ]
  },
  {
   "cell_type": "code",
   "execution_count": 12,
   "id": "224560e6",
   "metadata": {},
   "outputs": [
    {
     "name": "stdout",
     "output_type": "stream",
     "text": [
      "quinn\n"
     ]
    }
   ],
   "source": [
    "s='q'\n",
    "t='u'\n",
    "e='i'\n",
    "w='n'\n",
    "print(s+t+e+w+w)"
   ]
  },
  {
   "cell_type": "code",
   "execution_count": 13,
   "id": "f8a7e731",
   "metadata": {},
   "outputs": [
    {
     "name": "stdout",
     "output_type": "stream",
     "text": [
      "Working in Python is going to be Very fun I can't wait!\n"
     ]
    }
   ],
   "source": [
    "q='Working in Python '\n",
    "u='is going '\n",
    "i='to be Very '\n",
    "n=\"fun I can't wait!\"\n",
    "print(q+u+i+n)"
   ]
  },
  {
   "cell_type": "code",
   "execution_count": 15,
   "id": "9d539688",
   "metadata": {},
   "outputs": [
    {
     "name": "stdout",
     "output_type": "stream",
     "text": [
      "Supernatural is a very long show but it is fun to watch!\n"
     ]
    }
   ],
   "source": [
    "d='Supernatural '\n",
    "e='is a very '\n",
    "a='long show but '\n",
    "n='it is fun to watch!'\n",
    "print(d+e+a+n)"
   ]
  },
  {
   "cell_type": "code",
   "execution_count": 16,
   "id": "7072f3d6",
   "metadata": {},
   "outputs": [
    {
     "data": {
      "text/plain": [
       "'C.F.C.F.C.F.C.F.C.F.C.F.C.F.C.F.C.F.C.F.C.F.C.F.C.F.C.F.C.F.C.F.C.F.C.F.C.F.C.F.C.F.C.F.C.F.C.F.C.F.C.F.C.F.C.F.C.F.C.F.C.F.C.F.C.F.C.F.C.F.C.F.C.F.C.F.C.F.C.F.C.F.C.F.C.F.C.F.C.F.C.F.C.F.C.F.C.F.C.F.C.F.C.F.C.F.C.F.C.F.C.F.C.F.C.F.C.F.C.F.C.F.C.F.C.F.C.F.C.F.C.F.C.F.C.F.C.F.C.F.C.F.C.F.C.F.C.F.C.F.C.F.C.F.C.F.C.F.C.F.C.F.C.F.C.F.C.F.C.F.C.F.C.F.C.F.C.F.C.F.C.F.C.F.C.F.C.F.C.F.C.F.C.F.C.F.C.F.C.F.'"
      ]
     },
     "execution_count": 16,
     "metadata": {},
     "output_type": "execute_result"
    }
   ],
   "source": [
    "k='C.F.'\n",
    "k*100"
   ]
  },
  {
   "cell_type": "code",
   "execution_count": null,
   "id": "c9852b3d",
   "metadata": {},
   "outputs": [],
   "source": []
  }
 ],
 "metadata": {
  "kernelspec": {
   "display_name": "Python 3",
   "language": "python",
   "name": "python3"
  },
  "language_info": {
   "codemirror_mode": {
    "name": "ipython",
    "version": 3
   },
   "file_extension": ".py",
   "mimetype": "text/x-python",
   "name": "python",
   "nbconvert_exporter": "python",
   "pygments_lexer": "ipython3",
   "version": "3.8.8"
  }
 },
 "nbformat": 4,
 "nbformat_minor": 5
}
